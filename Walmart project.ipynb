{
 "cells": [
  {
   "cell_type": "code",
   "execution_count": 122,
   "id": "1cdcb5a7-5eb2-4ce3-b67e-16a839639e73",
   "metadata": {},
   "outputs": [
    {
     "data": {
      "text/plain": [
       "5000"
      ]
     },
     "execution_count": 122,
     "metadata": {},
     "output_type": "execute_result"
    }
   ],
   "source": [
    "import pandas as pd\n",
    "import sqlite3\n",
    "import matplotlib.pyplot as plt\n",
    "\n",
    "df = pd.read_csv(\"Walmart.csv\")\n",
    "\n",
    "df['transaction_date'] = pd.to_datetime(df['transaction_date'], errors='coerce')\n",
    "\n",
    "conn = sqlite3.connect(\":memory:\")  # or use 'walmart.db' for file\n",
    "\n",
    "df.to_sql(\"walmart_data\", conn, index=False, if_exists=\"replace\")\n"
   ]
  },
  {
   "cell_type": "code",
   "execution_count": 268,
   "id": "a0ef78db-67cf-44f4-a43a-543fdca036e5",
   "metadata": {},
   "outputs": [
    {
     "name": "stdout",
     "output_type": "stream",
     "text": [
      "       month  total_quantity_sold\n",
      "0 2024-01-01                 1672\n",
      "1 2024-02-01                 1674\n",
      "2 2024-03-01                 1809\n",
      "3 2024-04-01                 1668\n",
      "4 2024-05-01                 1768\n",
      "5 2024-06-01                 1613\n",
      "6 2024-07-01                 1833\n",
      "7 2024-08-01                 1968\n",
      "8 2024-09-01                  909\n"
     ]
    }
   ],
   "source": [
    "query = \"\"\"\n",
    "SELECT \n",
    "    strftime('%Y-%m', transaction_date) AS month,\n",
    "    SUM(quantity_sold) AS total_quantity_sold\n",
    "FROM walmart_data\n",
    "GROUP BY month\n",
    "ORDER BY month;\n",
    "\"\"\"\n",
    "\n",
    "monthly_sales = pd.read_sql(query, conn)\n",
    "\n",
    "monthly_sales['month'] = pd.to_datetime(monthly_sales['month'], format='%Y-%m')\n",
    "\n",
    "monthly_sales.to_csv(\"monthly_quantity_sold.csv\", index=False)\n",
    "\n",
    "print(monthly_sales)\n"
   ]
  },
  {
   "cell_type": "code",
   "execution_count": 270,
   "id": "efc81f6a-bb0f-43d9-9ad4-aec2f688910b",
   "metadata": {},
   "outputs": [
    {
     "name": "stdout",
     "output_type": "stream",
     "text": [
      "        month     category  total_quantity_sold\n",
      "0  2024-01-01   Appliances                  802\n",
      "1  2024-01-01  Electronics                  870\n",
      "2  2024-02-01   Appliances                  855\n",
      "3  2024-02-01  Electronics                  819\n",
      "4  2024-03-01   Appliances                  853\n",
      "5  2024-03-01  Electronics                  956\n",
      "6  2024-04-01   Appliances                  767\n",
      "7  2024-04-01  Electronics                  901\n",
      "8  2024-05-01   Appliances                  874\n",
      "9  2024-05-01  Electronics                  894\n",
      "10 2024-06-01   Appliances                  732\n",
      "11 2024-06-01  Electronics                  881\n",
      "12 2024-07-01   Appliances                  900\n",
      "13 2024-07-01  Electronics                  933\n",
      "14 2024-08-01   Appliances                  951\n",
      "15 2024-08-01  Electronics                 1017\n",
      "16 2024-09-01   Appliances                  435\n",
      "17 2024-09-01  Electronics                  474\n"
     ]
    }
   ],
   "source": [
    "query = \"\"\"\n",
    "SELECT \n",
    "    strftime('%Y-%m', transaction_date) AS month,\n",
    "    category,\n",
    "    SUM(quantity_sold) AS total_quantity_sold\n",
    "FROM walmart_data\n",
    "GROUP BY month, category\n",
    "ORDER BY month;\n",
    "\"\"\"\n",
    "category_sales = pd.read_sql(query, conn)\n",
    "\n",
    "category_sales['month'] = pd.to_datetime(category_sales['month'], format='%Y-%m')\n",
    "\n",
    "category_sales.to_csv(\"monthly_sales_by_category.csv\", index=False)\n",
    "\n",
    "print(category_sales)\n"
   ]
  },
  {
   "cell_type": "code",
   "execution_count": 130,
   "id": "1ee3f0c9-f32d-456c-8de0-b975c5b31de3",
   "metadata": {},
   "outputs": [
    {
     "name": "stdout",
     "output_type": "stream",
     "text": [
      "Mean Absolute Error (MAE): 137.52\n",
      "Mean Squared Error (MSE): 28286.88\n",
      "Root Mean Squared Error (RMSE): 168.19\n",
      "Mean Absolute Percentage Error (MAPE): 59.93%\n"
     ]
    }
   ],
   "source": [
    "from sklearn.metrics import mean_absolute_error, mean_squared_error\n",
    "\n",
    "mae = mean_absolute_error(df['actual_demand'], df['forecasted_demand'])\n",
    "mse = mean_squared_error(df['actual_demand'], df['forecasted_demand'])\n",
    "rmse = mse ** 0.5\n",
    "mape = (abs(df['actual_demand'] - df['forecasted_demand']) / df['actual_demand']).mean() * 100\n",
    "\n",
    "print(f\"Mean Absolute Error (MAE): {mae:.2f}\")\n",
    "print(f\"Mean Squared Error (MSE): {mse:.2f}\")\n",
    "print(f\"Root Mean Squared Error (RMSE): {rmse:.2f}\")\n",
    "print(f\"Mean Absolute Percentage Error (MAPE): {mape:.2f}%\")"
   ]
  },
  {
   "cell_type": "code",
   "execution_count": 278,
   "id": "1377461c-f2a6-4867-a4d5-3d38a71d263f",
   "metadata": {
    "scrolled": true
   },
   "outputs": [
    {
     "name": "stdout",
     "output_type": "stream",
     "text": [
      "       month  total_forecast_error\n",
      "0 2024-01-01                 76944\n",
      "1 2024-02-01                 77291\n",
      "2 2024-03-01                 86000\n",
      "3 2024-04-01                 77477\n",
      "4 2024-05-01                 84947\n",
      "5 2024-06-01                 75173\n",
      "6 2024-07-01                 81025\n",
      "7 2024-08-01                 88950\n",
      "8 2024-09-01                 39771\n"
     ]
    }
   ],
   "source": [
    "query = \"\"\"\n",
    "SELECT \n",
    "    strftime('%Y-%m', transaction_date) AS month,\n",
    "    SUM(ABS(actual_demand - forecasted_demand)) AS total_forecast_error\n",
    "FROM walmart_data\n",
    "GROUP BY month\n",
    "ORDER BY month;\n",
    "\"\"\"\n",
    "\n",
    "error_df = pd.read_sql(query, conn)\n",
    "\n",
    "error_df['month'] = pd.to_datetime(error_df['month'], format='%Y-%m')\n",
    "\n",
    "error_df.to_csv(\"monthly_forcast_error.csv\", index=False)\n",
    "\n",
    "print(error_df)\n"
   ]
  },
  {
   "cell_type": "code",
   "execution_count": 282,
   "id": "5fb2628b-bd27-4423-8263-a0414fab1b62",
   "metadata": {},
   "outputs": [
    {
     "name": "stdout",
     "output_type": "stream",
     "text": [
      "   product_name    month  quantity_sold  daily_demand  inventory_level  \\\n",
      "0        Camera  2024-01            225           7.0       228.041096   \n",
      "1        Camera  2024-02            245           8.0       283.240964   \n",
      "2        Camera  2024-03            191           6.0       277.621622   \n",
      "3        Camera  2024-04            145           5.0       248.865385   \n",
      "4        Camera  2024-05            217           7.0       257.878378   \n",
      "5        Camera  2024-06            248           8.0       255.395062   \n",
      "6        Camera  2024-07            267           9.0       245.975309   \n",
      "7        Camera  2024-08            234           8.0       271.391892   \n",
      "8        Camera  2024-09            101           3.0       227.083333   \n",
      "9        Fridge  2024-01            233           8.0       275.486111   \n",
      "10       Fridge  2024-02            190           7.0       260.507937   \n",
      "11       Fridge  2024-03            231           7.0       260.024096   \n",
      "\n",
      "    reorder_trigger_day  \n",
      "0                  29.0  \n",
      "1                  32.0  \n",
      "2                  42.0  \n",
      "3                  45.0  \n",
      "4                  33.0  \n",
      "5                  29.0  \n",
      "6                  25.0  \n",
      "7                  31.0  \n",
      "8                  67.0  \n",
      "9                  31.0  \n",
      "10                 34.0  \n",
      "11                 34.0  \n"
     ]
    }
   ],
   "source": [
    "df['transaction_date'] = pd.to_datetime(df['transaction_date'])\n",
    "df['month'] = df['transaction_date'].dt.to_period('M')\n",
    "df['days_in_month'] = df['transaction_date'].dt.days_in_month\n",
    "\n",
    "query = \"\"\" \n",
    "    SELECT\n",
    "    product_name,\n",
    "    strftime('%Y-%m', transaction_date) AS month,\n",
    "    SUM(quantity_sold) AS quantity_sold,\n",
    "    AVG(inventory_level) AS inventory_level,\n",
    "    MAX(strftime('%d', date(transaction_date, 'start of month', '+1 month', '-1 day'))) AS days_in_month\n",
    "    FROM walmart_data\n",
    "    GROUP BY product_name, month\n",
    "    ORDER BY product_name, month;\n",
    " \"\"\"\n",
    "monthly_demand = pd.read_sql(query, conn)\n",
    "\n",
    "monthly_demand['days_in_month'] = monthly_demand['days_in_month'].astype(int)\n",
    "\n",
    "monthly_demand['daily_demand'] = (\n",
    "    monthly_demand['quantity_sold'] / monthly_demand['days_in_month']\n",
    ").round()\n",
    "\n",
    "\n",
    "safety_stock = 25\n",
    "\n",
    "monthly_demand['reorder_trigger_day'] = ((monthly_demand['inventory_level'] - safety_stock) / monthly_demand['daily_demand']).round()\n",
    "\n",
    "monthly_demand.to_csv(\"reorder_timing_by_product.csv\", index=False)\n",
    "\n",
    "\n",
    "print(monthly_demand[['product_name', 'month', 'quantity_sold', 'daily_demand', 'inventory_level', 'reorder_trigger_day']].head(12))\n"
   ]
  },
  {
   "cell_type": "code",
   "execution_count": 286,
   "id": "9ee866ea-6ec2-4e75-8017-23cd7fd00ab1",
   "metadata": {},
   "outputs": [
    {
     "name": "stdout",
     "output_type": "stream",
     "text": [
      "     month     product_name  max_quantity_sold\n",
      "0  2024-01  Washing Machine                235\n",
      "1  2024-02           Camera                245\n",
      "2  2024-03           Tablet                327\n",
      "3  2024-04           Tablet                245\n",
      "4  2024-05           Fridge                247\n",
      "5  2024-06           Camera                248\n",
      "6  2024-07       Smartphone                276\n",
      "7  2024-08               TV                305\n",
      "8  2024-09           Fridge                171\n"
     ]
    }
   ],
   "source": [
    "query = \"\"\"\n",
    "SELECT month, product_name, MAX(total_quantity_sold) AS max_quantity_sold\n",
    "FROM (\n",
    "    SELECT \n",
    "        strftime('%Y-%m', transaction_date) AS month,\n",
    "        product_name,\n",
    "        SUM(quantity_sold) AS total_quantity_sold\n",
    "    FROM walmart_data\n",
    "    GROUP BY month, product_name\n",
    ") AS monthly_totals\n",
    "GROUP BY month\n",
    "ORDER BY month;\n",
    "\"\"\"\n",
    "\n",
    "best_selling = pd.read_sql(query, conn)\n",
    "\n",
    "best_selling.to_csv(\"best_selling_products.csv\", index=False)\n",
    "\n",
    "print(best_selling)\n"
   ]
  },
  {
   "cell_type": "code",
   "execution_count": 288,
   "id": "901d3866-fb0b-4113-ad23-87673ace4de2",
   "metadata": {},
   "outputs": [
    {
     "name": "stdout",
     "output_type": "stream",
     "text": [
      "      product_name  total_quantity_sold  avg_unit_price  total_revenue\n",
      "0               TV                 1926     1052.523066     2049493.86\n",
      "1           Tablet                 1964      996.608253     1996253.02\n",
      "2           Fridge                 1967      993.185954     1938012.69\n",
      "3       Smartphone                 1876     1038.293276     1931310.04\n",
      "4  Washing Machine                 1807     1052.249837     1897934.02\n",
      "5           Camera                 1873     1015.638312     1895104.13\n",
      "6       Headphones                 1816     1022.561726     1846334.45\n",
      "7           Laptop                 1685     1018.981159     1709159.24\n"
     ]
    }
   ],
   "source": [
    "query = \"\"\"\n",
    "SELECT \n",
    "    product_name,\n",
    "    SUM(quantity_sold) AS total_quantity_sold,\n",
    "    AVG(unit_price) AS avg_unit_price,\n",
    "    SUM(unit_price * quantity_sold) AS total_revenue\n",
    "FROM walmart_data\n",
    "GROUP BY product_name\n",
    "ORDER BY total_revenue DESC;\n",
    "\"\"\"\n",
    "product_profitability = pd.read_sql(query, conn)\n",
    "\n",
    "top_products = product_profitability.head(10)\n",
    "\n",
    "top_products.to_csv(\"profitable_products.csv\", index=False)\n",
    "\n",
    "print(top_products)\n"
   ]
  },
  {
   "cell_type": "code",
   "execution_count": 248,
   "id": "b1e171c7-7f31-4922-9438-ae5cf392ab1e",
   "metadata": {},
   "outputs": [
    {
     "name": "stdout",
     "output_type": "stream",
     "text": [
      "       month  total_sales\n",
      "0 2024-01-01   1731651.65\n",
      "1 2024-02-01   1767062.38\n",
      "2 2024-03-01   1833450.84\n",
      "3 2024-04-01   1739800.75\n",
      "4 2024-05-01   1786559.47\n",
      "5 2024-06-01   1600978.97\n",
      "6 2024-07-01   1878513.51\n",
      "7 2024-08-01   2018315.81\n",
      "8 2024-09-01    907268.07\n"
     ]
    }
   ],
   "source": [
    "query = \"\"\"\n",
    "SELECT \n",
    "    strftime('%Y-%m', transaction_date) AS month,\n",
    "    SUM(unit_price * quantity_sold) AS total_sales\n",
    "FROM walmart_data\n",
    "GROUP BY month\n",
    "ORDER BY month;\n",
    "\"\"\"\n",
    "\n",
    "monthly_revenue = pd.read_sql(query, conn)\n",
    "\n",
    "monthly_revenue['month'] = pd.to_datetime(monthly_revenue['month'])\n",
    "monthly_revenue.to_csv(\"monthly_revenue_obtained.csv\", index=False)\n",
    "\n",
    "print(monthly_revenue)\n"
   ]
  },
  {
   "cell_type": "code",
   "execution_count": 216,
   "id": "bc75ffdc-5921-4de4-be9d-4e85ac4c625f",
   "metadata": {},
   "outputs": [
    {
     "name": "stdout",
     "output_type": "stream",
     "text": [
      "       month  forecasted_demand  actual_demand\n",
      "0 2024-01-01             167788         166932\n",
      "1 2024-02-01             171914         169799\n",
      "2 2024-03-01             181400         183080\n",
      "3 2024-04-01             165247         169430\n",
      "4 2024-05-01             172057         176216\n",
      "5 2024-06-01             160850         170451\n",
      "6 2024-07-01             184297         178184\n",
      "7 2024-08-01             196832         193476\n",
      "8 2024-09-01              85285          87874\n"
     ]
    }
   ],
   "source": [
    "query = \"\"\"\n",
    "SELECT \n",
    "    strftime('%Y-%m', transaction_date) AS month,\n",
    "    SUM(forecasted_demand) AS forecasted_demand,\n",
    "    SUM(actual_demand) AS actual_demand\n",
    "FROM walmart_data\n",
    "GROUP BY month\n",
    "ORDER BY month;\n",
    "\"\"\"\n",
    "\n",
    "sales_comparison = pd.read_sql_query(query, conn)\n",
    "\n",
    "sales_comparison['month'] = pd.to_datetime(sales_comparison['month'])\n",
    "print(sales_comparison)\n",
    "\n",
    "sales_comparison.to_csv(\"monthly_forecast_vs_actual.csv\", index=False)"
   ]
  },
  {
   "cell_type": "code",
   "execution_count": 223,
   "id": "d08446da-a36f-4279-9021-db482690b73a",
   "metadata": {},
   "outputs": [
    {
     "name": "stdout",
     "output_type": "stream",
     "text": [
      "    store_id  total_revenue\n",
      "0          1      847018.97\n",
      "1         11      831769.36\n",
      "2          5      830071.66\n",
      "3         17      822912.10\n",
      "4          9      813169.46\n",
      "5          2      796410.56\n",
      "6         10      791735.58\n",
      "7         20      789721.39\n",
      "8         15      781436.41\n",
      "9          8      775187.40\n",
      "10        19      750516.46\n",
      "11        16      739372.93\n",
      "12         3      738115.04\n",
      "13        14      726846.56\n",
      "14        13      722058.89\n",
      "15         7      720463.92\n",
      "16        18      719431.61\n",
      "17        12      704529.53\n",
      "18         4      700333.70\n",
      "19         6      662499.92\n"
     ]
    }
   ],
   "source": [
    "df['revenue'] = df['unit_price'] * df['quantity_sold']\n",
    "\n",
    "query = \"\"\"\n",
    "SELECT \n",
    "    store_id,\n",
    "    SUM(unit_price * quantity_sold) AS total_revenue\n",
    "FROM walmart_data\n",
    "GROUP BY store_id\n",
    "ORDER BY total_revenue DESC;\n",
    "\"\"\"\n",
    "\n",
    "revenue_store = pd.read_sql_query(query, conn)\n",
    "\n",
    "revenue_store.to_csv(\"revenue_by_store.csv\", index=False)\n",
    "\n",
    "print(revenue_store)"
   ]
  },
  {
   "cell_type": "code",
   "execution_count": 234,
   "id": "5ebfd66c-526c-4c14-ab94-0872443c393b",
   "metadata": {},
   "outputs": [
    {
     "name": "stdout",
     "output_type": "stream",
     "text": [
      "    store_location  total_sales\n",
      "0  Los Angeles, CA   3276299.63\n",
      "1      Chicago, IL   3156726.82\n",
      "2     New York, NY   2964077.24\n",
      "3        Miami, FL   2962567.02\n",
      "4       Dallas, TX   2903930.74\n"
     ]
    }
   ],
   "source": [
    "query = \"\"\"\n",
    "SELECT \n",
    "    store_location,\n",
    "    SUM(quantity_sold * unit_price) AS total_sales\n",
    "FROM walmart_data\n",
    "GROUP BY store_location\n",
    "ORDER BY total_sales DESC;\n",
    "\"\"\"\n",
    "\n",
    "region_sales = pd.read_sql_query(query, conn)\n",
    "\n",
    "region_sales.to_csv(\"region_sales.csv\", index=False)\n",
    "\n",
    "print(region_sales)"
   ]
  },
  {
   "cell_type": "code",
   "execution_count": 243,
   "id": "ed25af67-3a23-4065-b55d-f65abe0c240e",
   "metadata": {},
   "outputs": [
    {
     "name": "stdout",
     "output_type": "stream",
     "text": [
      "     weekday  transaction_count\n",
      "0     Monday                775\n",
      "1    Tuesday                736\n",
      "2  Wednesday                691\n",
      "3   Thursday                760\n",
      "4     Friday                668\n",
      "5   Saturday                710\n",
      "6     Sunday                660\n"
     ]
    }
   ],
   "source": [
    "query = \"\"\"\n",
    "SELECT \n",
    "    weekday,\n",
    "    COUNT(*) AS transaction_count\n",
    "FROM walmart_data\n",
    "GROUP BY weekday\n",
    "ORDER BY \n",
    "    CASE weekday\n",
    "        WHEN 'Monday' THEN 1\n",
    "        WHEN 'Tuesday' THEN 2\n",
    "        WHEN 'Wednesday' THEN 3\n",
    "        WHEN 'Thursday' THEN 4\n",
    "        WHEN 'Friday' THEN 5\n",
    "        WHEN 'Saturday' THEN 6\n",
    "        WHEN 'Sunday' THEN 7\n",
    "    END;\n",
    "\"\"\"\n",
    "\n",
    "weekday_counts = pd.read_sql_query(query, conn)\n",
    "\n",
    "weekday_counts.to_csv(\"weekday_transaction_counts.csv\", index=False)\n",
    "\n",
    "print(weekday_counts)"
   ]
  },
  {
   "cell_type": "code",
   "execution_count": null,
   "id": "0469912b-02df-42e1-82aa-484009102fdf",
   "metadata": {},
   "outputs": [],
   "source": []
  }
 ],
 "metadata": {
  "kernelspec": {
   "display_name": "Python 3 (ipykernel)",
   "language": "python",
   "name": "python3"
  },
  "language_info": {
   "codemirror_mode": {
    "name": "ipython",
    "version": 3
   },
   "file_extension": ".py",
   "mimetype": "text/x-python",
   "name": "python",
   "nbconvert_exporter": "python",
   "pygments_lexer": "ipython3",
   "version": "3.12.4"
  }
 },
 "nbformat": 4,
 "nbformat_minor": 5
}
